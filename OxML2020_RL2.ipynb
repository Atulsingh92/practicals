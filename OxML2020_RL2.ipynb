{
  "nbformat": 4,
  "nbformat_minor": 0,
  "metadata": {
    "colab": {
      "name": "OxML2020_RL2.ipynb",
      "provenance": [],
      "collapsed_sections": [],
      "toc_visible": true,
      "authorship_tag": "ABX9TyMRn4PJVXGvQ1mjhUqjkl6U",
      "include_colab_link": true
    },
    "kernelspec": {
      "name": "python3",
      "display_name": "Python 3"
    }
  },
  "cells": [
    {
      "cell_type": "markdown",
      "metadata": {
        "id": "view-in-github",
        "colab_type": "text"
      },
      "source": [
        "<a href=\"https://colab.research.google.com/github/OxML2020/practicals/blob/master/OxML2020_RL2.ipynb\" target=\"_parent\"><img src=\"https://colab.research.google.com/assets/colab-badge.svg\" alt=\"Open In Colab\"/></a>"
      ]
    },
    {
      "cell_type": "markdown",
      "metadata": {
        "id": "TqkRbG3SA1wn",
        "colab_type": "text"
      },
      "source": [
        "---\n",
        "#OxML 2020: Reinforcement Learning Part 2\n",
        "\n",
        "**Temporal-Difference Learning and Q-Learning**\n",
        "\n",
        "**content creator:** Fatemeh Abdollahi\n",
        "\n",
        "\n",
        "---\n",
        "\n",
        "\n",
        "\n"
      ]
    },
    {
      "cell_type": "code",
      "metadata": {
        "id": "Xai8BqPuNGBi",
        "colab_type": "code",
        "cellView": "form",
        "colab": {}
      },
      "source": [
        "#@title Setup\n",
        "\n",
        "#######################################################################\n",
        "# Copyright (C)                                                       #\n",
        "# 2016 Shangtong Zhang(zhangshangtong.cpp@gmail.com)                  #\n",
        "# 2016 Kenta Shimada(hyperkentakun@gmail.com)                         #\n",
        "# Permission given to modify the code as long as you keep this        #\n",
        "# declaration at the top                                              #\n",
        "#######################################################################\n",
        "\n",
        "from __future__ import print_function\n",
        "import numpy as np\n",
        "import matplotlib.pyplot as plt\n"
      ],
      "execution_count": 2,
      "outputs": []
    },
    {
      "cell_type": "markdown",
      "metadata": {
        "id": "NHv7Ua29BOZ5",
        "colab_type": "text"
      },
      "source": [
        "#Section 1: Introduction to TD Learning\n",
        "\n",
        "__MDPs:__\n",
        "\n",
        "Finite Markov decision processes (MDPs) are a classical formalization of sequential decision making, where actions influence not just immediate rewards, but also subsequent situations, or states, and future rewards.\n",
        "Thus MDPs involve delayed reward and the need to tradeoff immediate and delayed rewards. Whereas in bandit problems we estimated the value $q_{*}(a)$ of each action $a$, in MDPs we estimate the value $q_{*}(s, a)$ of each action $a$\n",
        "in each state $s$, or we estimate the value $v_{*}(s)$ of each state given optimal action selections.\n",
        "These state-dependent quantities are essential to accurately assigning credit for long-term consequences to individual action selections.\n",
        "MDPs are a mathematically idealized form of the reinforcement learning problem\n",
        "for which precise theoretical statements can be made.\n",
        "\n",
        "__Environment:__\n",
        "\n",
        "- In a finite MDP, the sets of states, actions, and rewards ($S, A$, and $R$) all have a finite number of elements. In this case, the random variables $R_{t}$ and $S_{t}$ have well defined discrete probability distributions dependent only on the preceding state and action. That is, for particular values of these random variables, $s' \\in S$ and $r \\in R$, there is a probability of those values occurring at time $t$, given particular values of the preceding state and action:\n",
        "\\begin{align}\n",
        "p(s', r|s, a) \\doteq \\Pr [ S_{t}=s', R_{t}=r \\;|\\; S_{t−1}=s, A_{t−1}=a]\n",
        "\\end{align}\n",
        "for all $s', s \\in S, r \\in R$, and $a \\in A(s)$. The function $p$ defines the dynamics of the MDP.\n",
        "- The agent experiences the environment in episodes or trials.\n",
        "- The agent's goal is to learn to predict expected rewards from each state in the trial. \n",
        "\n",
        "\n",
        "**Key Elements**\n",
        "\n",
        "* Return $G_{t}$: future cumulative reward, which can be written in arecursive form\n",
        "\\begin{align}\n",
        "G_{t} &= \\sum \\limits_{k = 0}^{\\infty} \\gamma^{k} R_{t+k+1} \\\\\n",
        "&= R_{t+1} + \\gamma G_{t+1}\n",
        "\\end{align}\n",
        "where $\\gamma$ is discount factor that controls the importance of future rewards, and $\\gamma \\in [0, 1]$. $\\gamma$ may also be interpreted as probability of continuing the trajectory.\n",
        "* Value funtion $V_{\\pi}(s_t=s)$: expecation of the return for a state $s$ under policy $\\pi$\n",
        "\\begin{align}\n",
        "V_{\\pi}(s_t=s) &= \\mathbb{E} [ G_{t}\\; | \\; s_t=s, a_{t:\\infty}\\sim\\pi] \\\\\n",
        "& = \\mathbb{E} [ R_{t+1} + \\gamma G_{t+1}\\; | \\; s_t=s, a_{t:\\infty}\\sim\\pi]\n",
        "\\end{align}\n",
        "With an assumption of **Markov process**, we thus have:\n",
        "\\begin{align}\n",
        "V_{\\pi}(s_t=s) &= \\mathbb{E} [ r_{t+1} + \\gamma V_{\\pi}(s_{t+1})\\; | \\; s_t=s, a_{t:\\infty}\\sim\\pi] \\\\\n",
        "&= \\sum_a \\pi(a|s) \\sum_{r, s'}p(s', r | s, a)[r + V_{\\pi}(s_{t+1}=s')]\n",
        "\\end{align}\n",
        "where $\\pi(a|s)$ is the probability of taking action $a$ in state $s$ under policy $\\pi$.\n",
        "\n",
        "**Temporal difference (TD) learning**\n",
        "\n",
        "* With a Markovian assumption, we can use $V(s_{t+1})$ as an imperfect proxy for the true value $G_{t+1}$ (Monte Carlo bootstrapping), and thus obtain the generalised equation to calculate TD-error:\n",
        "\\begin{align}\n",
        "\\delta_{t} = R_{t+1} + \\gamma V(S_{t+1}) - V(S_{t})\n",
        "\\end{align}\n",
        "\n",
        "* Value updated by using the learning rate constant $\\alpha$:\n",
        "\\begin{align}\n",
        "V(S_{t}) \\leftarrow V(S_{t}) + \\alpha \\delta_{t}\n",
        "\\end{align}\n",
        "\n",
        "\n",
        "\n",
        "__Definitions:__\n",
        "\n",
        "* TD-error:\n",
        "\\begin{align}\n",
        "\\delta_{t} = R_{t+1} + \\gamma V(S_{t+1}) - V(S_{t})\n",
        "\\end{align}\n",
        "\n",
        "* Value updates:\n",
        "\\begin{align}\n",
        "V(S_{t}) \\leftarrow V(S_{t}) + \\alpha \\delta_{t}\n",
        "\\end{align}\n"
      ]
    },
    {
      "cell_type": "markdown",
      "metadata": {
        "id": "zXPyyuw67sAH",
        "colab_type": "text"
      },
      "source": [
        "##Exercise 1: Implementing TD Algorithm\n",
        "\n",
        "__Problem Definition:__\n",
        "\n",
        "This is an example found in the book Reinforcement Learning: An Introduction by Sutton and Barto. The basic idea is that you always start in state ‘C’, and you move randomly, with a 50% probability, to either the left or right until you reach the terminal or ending states ‘A’ or ‘E’. If you end in state ‘A’, you get a reward of 0, but if you end in state ‘E’, the reward is 1. There are no rewards for states ‘B’ through ‘D’.\n",
        "\n",
        "![random walk.JPG](data:image/jpeg;base64,/9j/4AAQSkZJRgABAQEAeAB4AAD/4RDSRXhpZgAATU0AKgAAAAgABAE7AAIAAAAERkFCAIdpAAQAAAABAAAISpydAAEAAAAIAAAQwuocAAcAAAgMAAAAPgAAAAAc6gAAAAgAAAAAAAAAAAAAAAAAAAAAAAAAAAAAAAAAAAAAAAAAAAAAAAAAAAAAAAAAAAAAAAAAAAAAAAAAAAAAAAAAAAAAAAAAAAAAAAAAAAAAAAAAAAAAAAAAAAAAAAAAAAAAAAAAAAAAAAAAAAAAAAAAAAAAAAAAAAAAAAAAAAAAAAAAAAAAAAAAAAAAAAAAAAAAAAAAAAAAAAAAAAAAAAAAAAAAAAAAAAAAAAAAAAAAAAAAAAAAAAAAAAAAAAAAAAAAAAAAAAAAAAAAAAAAAAAAAAAAAAAAAAAAAAAAAAAAAAAAAAAAAAAAAAAAAAAAAAAAAAAAAAAAAAAAAAAAAAAAAAAAAAAAAAAAAAAAAAAAAAAAAAAAAAAAAAAAAAAAAAAAAAAAAAAAAAAAAAAAAAAAAAAAAAAAAAAAAAAAAAAAAAAAAAAAAAAAAAAAAAAAAAAAAAAAAAAAAAAAAAAAAAAAAAAAAAAAAAAAAAAAAAAAAAAAAAAAAAAAAAAAAAAAAAAAAAAAAAAAAAAAAAAAAAAAAAAAAAAAAAAAAAAAAAAAAAAAAAAAAAAAAAAAAAAAAAAAAAAAAAAAAAAAAAAAAAAAAAAAAAAAAAAAAAAAAAAAAAAAAAAAAAAAAAAAAAAAAAAAAAAAAAAAAAAAAAAAAAAAAAAAAAAAAAAAAAAAAAAAAAAAAAAAAAAAAAAAAAAAAAAAAAAAAAAAAAAAAAAAAAAAAAAAAAAAAAAAAAAAAAAAAAAAAAAAAAAAAAAAAAAAAAAAAAAAAAAAAAAAAAAAAAAAAAAAAAAAAAAAAAAAAAAAAAAAAAAAAAAAAAAAAAAAAAAAAAAAAAAAAAAAAAAAAAAAAAAAAAAAAAAAAAAAAAAAAAAAAAAAAAAAAAAAAAAAAAAAAAAAAAAAAAAAAAAAAAAAAAAAAAAAAAAAAAAAAAAAAAAAAAAAAAAAAAAAAAAAAAAAAAAAAAAAAAAAAAAAAAAAAAAAAAAAAAAAAAAAAAAAAAAAAAAAAAAAAAAAAAAAAAAAAAAAAAAAAAAAAAAAAAAAAAAAAAAAAAAAAAAAAAAAAAAAAAAAAAAAAAAAAAAAAAAAAAAAAAAAAAAAAAAAAAAAAAAAAAAAAAAAAAAAAAAAAAAAAAAAAAAAAAAAAAAAAAAAAAAAAAAAAAAAAAAAAAAAAAAAAAAAAAAAAAAAAAAAAAAAAAAAAAAAAAAAAAAAAAAAAAAAAAAAAAAAAAAAAAAAAAAAAAAAAAAAAAAAAAAAAAAAAAAAAAAAAAAAAAAAAAAAAAAAAAAAAAAAAAAAAAAAAAAAAAAAAAAAAAAAAAAAAAAAAAAAAAAAAAAAAAAAAAAAAAAAAAAAAAAAAAAAAAAAAAAAAAAAAAAAAAAAAAAAAAAAAAAAAAAAAAAAAAAAAAAAAAAAAAAAAAAAAAAAAAAAAAAAAAAAAAAAAAAAAAAAAAAAAAAAAAAAAAAAAAAAAAAAAAAAAAAAAAAAAAAAAAAAAAAAAAAAAAAAAAAAAAAAAAAAAAAAAAAAAAAAAAAAAAAAAAAAAAAAAAAAAAAAAAAAAAAAAAAAAAAAAAAAAAAAAAAAAAAAAAAAAAAAAAAAAAAAAAAAAAAAAAAAAAAAAAAAAAAAAAAAAAAAAAAAAAAAAAAAAAAAAAAAAAAAAAAAAAAAAAAAAAAAAAAAAAAAAAAAAAAAAAAAAAAAAAAAAAAAAAAAAAAAAAAAAAAAAAAAAAAAAAAAAAAAAAAAAAAAAAAAAAAAAAAAAAAAAAAAAAAAAAAAAAAAAAAAAAAAAAAAAAAAAAAAAAAAAAAAAAAAAAAAAAAAAAAAAAAAAAAAAAAAAAAAAAAAAAAAAAAAAAAAAAAAAAAAAAAAAAAAAAAAAAAAAAAAAAAAAAAAAAAAAAAAAAAAAAAAAAAAAAAAAAAAAAAAAAAAAAAAAAAAAAAAAAAAAAAAAAAAAAAAAAAAAAAAAAAAAAAAAAAAAAAAAAAAAAAAAAAAAAAAAAAAAAAAAAAAAAAAAAAAAAAAAAAAAAAAAAAAAAAAAAAAAAAAAAAAAAAAAAAAAAAAAAAAAAAAAAAAAAAAAAAAAAAAAAAAAAAAAAAAAAAAAAAAAAAAAAAAAAAAAAAAAAAAAAAAAAAAAAAAAAAAAAAAAAAAAAAAAAAAAAAAAAAAAAAAAAAAAAAAAAAAAAAAAAAAAAAAAAAAAAAAAAAAAAAAAAAAAAAAAAAAAAAAAAAAAAAAAAAAAAAAAAAAAAAAAAAAAAAAAAAAAAAAAAAAAAAAAAAAAAAAAAAAAAAAAAAAAAAAAAAAAAAAAAAAAAAAAAAAAAAAAAAAAAAAAAAAAAAAAAAAAAAAAAAAAAAAAAAAAAAAAAAAAAAAAAAAAAAAAAAAAAAAAAAAAAAAAAAAAAAAAAAAAAAAAAAAAAAAAAAAAAAAAAAAAAAAAAAAAAAAAAAAAAAAAAAAAAAAAAAAAAAAAAAAAAAAAAAAAAAAAAAAAAAAAAAAAAAAAAAAAAAAAAAAAAAAAAAAAAAAAAAAAAAAAAAAAAAAAAAAAAAAAAAAAAAAAAAAAAAAAAAAAAAAAAAAAAAAAAAAAAAAAAAAAAAAAAAAAAAAAAAAAAAAAAAAAAAAAAAAAAAAAAAAAAAAAAAAAAAAAAAAAAAAAAAAAAAAAAAAAAAAAAAAAAAAAAAAAAAAAAAAAAAAAAAAAAAAAAAAAAAAAAAAAAAAAAAAAAAAAAAAAAAAAAAAAAAAAAAAAAAAAAAFkAMAAgAAABQAABCYkAQAAgAAABQAABCskpEAAgAAAAM2NQAAkpIAAgAAAAM2NQAA6hwABwAACAwAAAiMAAAAABzqAAAACAAAAAAAAAAAAAAAAAAAAAAAAAAAAAAAAAAAAAAAAAAAAAAAAAAAAAAAAAAAAAAAAAAAAAAAAAAAAAAAAAAAAAAAAAAAAAAAAAAAAAAAAAAAAAAAAAAAAAAAAAAAAAAAAAAAAAAAAAAAAAAAAAAAAAAAAAAAAAAAAAAAAAAAAAAAAAAAAAAAAAAAAAAAAAAAAAAAAAAAAAAAAAAAAAAAAAAAAAAAAAAAAAAAAAAAAAAAAAAAAAAAAAAAAAAAAAAAAAAAAAAAAAAAAAAAAAAAAAAAAAAAAAAAAAAAAAAAAAAAAAAAAAAAAAAAAAAAAAAAAAAAAAAAAAAAAAAAAAAAAAAAAAAAAAAAAAAAAAAAAAAAAAAAAAAAAAAAAAAAAAAAAAAAAAAAAAAAAAAAAAAAAAAAAAAAAAAAAAAAAAAAAAAAAAAAAAAAAAAAAAAAAAAAAAAAAAAAAAAAAAAAAAAAAAAAAAAAAAAAAAAAAAAAAAAAAAAAAAAAAAAAAAAAAAAAAAAAAAAAAAAAAAAAAAAAAAAAAAAAAAAAAAAAAAAAAAAAAAAAAAAAAAAAAAAAAAAAAAAAAAAAAAAAAAAAAAAAAAAAAAAAAAAAAAAAAAAAAAAAAAAAAAAAAAAAAAAAAAAAAAAAAAAAAAAAAAAAAAAAAAAAAAAAAAAAAAAAAAAAAAAAAAAAAAAAAAAAAAAAAAAAAAAAAAAAAAAAAAAAAAAAAAAAAAAAAAAAAAAAAAAAAAAAAAAAAAAAAAAAAAAAAAAAAAAAAAAAAAAAAAAAAAAAAAAAAAAAAAAAAAAAAAAAAAAAAAAAAAAAAAAAAAAAAAAAAAAAAAAAAAAAAAAAAAAAAAAAAAAAAAAAAAAAAAAAAAAAAAAAAAAAAAAAAAAAAAAAAAAAAAAAAAAAAAAAAAAAAAAAAAAAAAAAAAAAAAAAAAAAAAAAAAAAAAAAAAAAAAAAAAAAAAAAAAAAAAAAAAAAAAAAAAAAAAAAAAAAAAAAAAAAAAAAAAAAAAAAAAAAAAAAAAAAAAAAAAAAAAAAAAAAAAAAAAAAAAAAAAAAAAAAAAAAAAAAAAAAAAAAAAAAAAAAAAAAAAAAAAAAAAAAAAAAAAAAAAAAAAAAAAAAAAAAAAAAAAAAAAAAAAAAAAAAAAAAAAAAAAAAAAAAAAAAAAAAAAAAAAAAAAAAAAAAAAAAAAAAAAAAAAAAAAAAAAAAAAAAAAAAAAAAAAAAAAAAAAAAAAAAAAAAAAAAAAAAAAAAAAAAAAAAAAAAAAAAAAAAAAAAAAAAAAAAAAAAAAAAAAAAAAAAAAAAAAAAAAAAAAAAAAAAAAAAAAAAAAAAAAAAAAAAAAAAAAAAAAAAAAAAAAAAAAAAAAAAAAAAAAAAAAAAAAAAAAAAAAAAAAAAAAAAAAAAAAAAAAAAAAAAAAAAAAAAAAAAAAAAAAAAAAAAAAAAAAAAAAAAAAAAAAAAAAAAAAAAAAAAAAAAAAAAAAAAAAAAAAAAAAAAAAAAAAAAAAAAAAAAAAAAAAAAAAAAAAAAAAAAAAAAAAAAAAAAAAAAAAAAAAAAAAAAAAAAAAAAAAAAAAAAAAAAAAAAAAAAAAAAAAAAAAAAAAAAAAAAAAAAAAAAAAAAAAAAAAAAAAAAAAAAAAAAAAAAAAAAAAAAAAAAAAAAAAAAAAAAAAAAAAAAAAAAAAAAAAAAAAAAAAAAAAAAAAAAAAAAAAAAAAAAAAAAAAAAAAAAAAAAAAAAAAAAAAAAAAAAAAAAAAAAAAAAAAAAAAAAAAAAAAAAAAAAAAAAAAAAAAAAAAAAAAAAAAAAAAAAAAAAAAAAAAAAAAAAAAAAAAAAAAAAAAAAAAAAAAAAAAAAAAAAAAAAAAAAAAAAAAAAAAAAAAAAAAAAAAAAAAAAAAAAAAAAAAAAAAAAAAAAAAAAAAAAAAAAAAAAAAAAAAAAAAAAAAAAAAAAAAAAAAAAAAAAAAAAAAAAAAAAAAAAAAAAAAAAAAAAAAAAAAAAAAAAAAAAAAAAAAAAAAAAAAAAAAAAAAAAAAAAAAAAAAAAAAAAAAAAAAAAAAAAAAAAAAAAAAAAAAAAAAAAAAAAAAAAAAAAAAAAAAAAAAAAAAAAAAAAAAAAAAAAAAAAAAAAAAAAAAAAAAAAAAAAAAAAAAAAAAAAAAAAAAAAAAAAAAAAAAAAAAAAAAAAAAAAAAAAAAAAAAAAAAAAAAAAAAAAAAAAAAAAAAAAAAAAAAAAAAAAAAAAAAAAAAAAAAAAAAAAAAAAAAAAAAAAAAAAAAAAAAAAAAAAAAAAAAAAAAAAAAAAAAAAAAAAAAAAAAAAAAAAAAAAAAAAAAAAAAAAAAAAAAAAAAAAAAAAAAAAAAAAAAAAAAAAAAAAAAAAAAAAAAAAAAAAAAAAAAAAAAAAAAAAAAAAAAAAAAAAAAAAAAAAAAAAAAAAAAAAAAAAAAAAAAAAAAAAAAAAAAAAAAAAAAAAAAAAAAAAAAAAAAAAAAAAAAAAAAAAAAAAAAAAAAAAAAAAAAAAAAAAAAAAAAAAAAAAAAAAAAAAAAAAAAAAAAAAAAAAAAAAAAAAAAAAAAAAAAAAAAAAAAAAAAAAAAAAAAAAAAAAAAAAAAAAAAAAAAAAAAAAAAAAAAAAAAAAAAAAAAAAAAAAAAAAAAAAAAAAAAAAAAAAAAAAAAAAAAAAAAAAAAAAAAAAAAAAAAAAAAAAAAAAAAAAAAAAAAAAAAAAAAAAAAAAAAAAAAAAAAAAMjAyMDowODoxOSAxMjozOTozNQAyMDIwOjA4OjE5IDEyOjM5OjM1AAAARgBBAEIAAAD/4QsWaHR0cDovL25zLmFkb2JlLmNvbS94YXAvMS4wLwA8P3hwYWNrZXQgYmVnaW49J++7vycgaWQ9J1c1TTBNcENlaGlIenJlU3pOVGN6a2M5ZCc/Pg0KPHg6eG1wbWV0YSB4bWxuczp4PSJhZG9iZTpuczptZXRhLyI+PHJkZjpSREYgeG1sbnM6cmRmPSJodHRwOi8vd3d3LnczLm9yZy8xOTk5LzAyLzIyLXJkZi1zeW50YXgtbnMjIj48cmRmOkRlc2NyaXB0aW9uIHJkZjphYm91dD0idXVpZDpmYWY1YmRkNS1iYTNkLTExZGEtYWQzMS1kMzNkNzUxODJmMWIiIHhtbG5zOmRjPSJodHRwOi8vcHVybC5vcmcvZGMvZWxlbWVudHMvMS4xLyIvPjxyZGY6RGVzY3JpcHRpb24gcmRmOmFib3V0PSJ1dWlkOmZhZjViZGQ1LWJhM2QtMTFkYS1hZDMxLWQzM2Q3NTE4MmYxYiIgeG1sbnM6eG1wPSJodHRwOi8vbnMuYWRvYmUuY29tL3hhcC8xLjAvIj48eG1wOkNyZWF0ZURhdGU+MjAyMC0wOC0xOVQxMjozOTozNS42NTI8L3htcDpDcmVhdGVEYXRlPjwvcmRmOkRlc2NyaXB0aW9uPjxyZGY6RGVzY3JpcHRpb24gcmRmOmFib3V0PSJ1dWlkOmZhZjViZGQ1LWJhM2QtMTFkYS1hZDMxLWQzM2Q3NTE4MmYxYiIgeG1sbnM6ZGM9Imh0dHA6Ly9wdXJsLm9yZy9kYy9lbGVtZW50cy8xLjEvIj48ZGM6Y3JlYXRvcj48cmRmOlNlcSB4bWxuczpyZGY9Imh0dHA6Ly93d3cudzMub3JnLzE5OTkvMDIvMjItcmRmLXN5bnRheC1ucyMiPjxyZGY6bGk+RkFCPC9yZGY6bGk+PC9yZGY6U2VxPg0KCQkJPC9kYzpjcmVhdG9yPjwvcmRmOkRlc2NyaXB0aW9uPjwvcmRmOlJERj48L3g6eG1wbWV0YT4NCiAgICAgICAgICAgICAgICAgICAgICAgICAgICAgICAgICAgICAgICAgICAgICAgICAgICAgICAgICAgICAgICAgICAgICAgICAgICAgICAgICAgICAgICAgICAgICAgICAgICAKICAgICAgICAgICAgICAgICAgICAgICAgICAgICAgICAgICAgICAgICAgICAgICAgICAgICAgICAgICAgICAgICAgICAgICAgICAgICAgICAgICAgICAgICAgICAgICAgICAgIAogICAgICAgICAgICAgICAgICAgICAgICAgICAgICAgICAgICAgICAgICAgICAgICAgICAgICAgICAgICAgICAgICAgICAgICAgICAgICAgICAgICAgICAgICAgICAgICAgICAgCiAgICAgICAgICAgICAgICAgICAgICAgICAgICAgICAgICAgICAgICAgICAgICAgICAgICAgICAgICAgICAgICAgICAgICAgICAgICAgICAgICAgICAgICAgICAgICAgICAgICAKICAgICAgICAgICAgICAgICAgICAgICAgICAgICAgICAgICAgICAgICAgICAgICAgICAgICAgICAgICAgICAgICAgICAgICAgICAgICAgICAgICAgICAgICAgICAgICAgICAgIAogICAgICAgICAgICAgICAgICAgICAgICAgICAgICAgICAgICAgICAgICAgICAgICAgICAgICAgICAgICAgICAgICAgICAgICAgICAgICAgICAgICAgICAgICAgICAgICAgICAgCiAgICAgICAgICAgICAgICAgICAgICAgICAgICAgICAgICAgICAgICAgICAgICAgICAgICAgICAgICAgICAgICAgICAgICAgICAgICAgICAgICAgICAgICAgICAgICAgICAgICAKICAgICAgICAgICAgICAgICAgICAgICAgICAgICAgICAgICAgICAgICAgICAgICAgICAgICAgICAgICAgICAgICAgICAgICAgICAgICAgICAgICAgICAgICAgICAgICAgICAgIAogICAgICAgICAgICAgICAgICAgICAgICAgICAgICAgICAgICAgICAgICAgICAgICAgICAgICAgICAgICAgICAgICAgICAgICAgICAgICAgICAgICAgICAgICAgICAgICAgICAgCiAgICAgICAgICAgICAgICAgICAgICAgICAgICAgICAgICAgICAgICAgICAgICAgICAgICAgICAgICAgICAgICAgICAgICAgICAgICAgICAgICAgICAgICAgICAgICAgICAgICAKICAgICAgICAgICAgICAgICAgICAgICAgICAgICAgICAgICAgICAgICAgICAgICAgICAgICAgICAgICAgICAgICAgICAgICAgICAgICAgICAgICAgICAgICAgICAgICAgICAgIAogICAgICAgICAgICAgICAgICAgICAgICAgICAgICAgICAgICAgICAgICAgICAgICAgICAgICAgICAgICAgICAgICAgICAgICAgICAgICAgICAgICAgICAgICAgICAgICAgICAgCiAgICAgICAgICAgICAgICAgICAgICAgICAgICAgICAgICAgICAgICAgICAgICAgICAgICAgICAgICAgICAgICAgICAgICAgICAgICAgICAgICAgICAgICAgICAgICAgICAgICAKICAgICAgICAgICAgICAgICAgICAgICAgICAgICAgICAgICAgICAgICAgICAgICAgICAgICAgICAgICAgICAgICAgICAgICAgICAgICAgICAgICAgICAgICAgICAgICAgICAgIAogICAgICAgICAgICAgICAgICAgICAgICAgICAgICAgICAgICAgICAgICAgICAgICAgICAgICAgICAgICAgICAgICAgICAgICAgICAgICAgICAgICAgICAgICAgICAgICAgICAgCiAgICAgICAgICAgICAgICAgICAgICAgICAgICAgICAgICAgICAgICAgICAgICAgICAgICAgICAgICAgICAgICAgICAgICAgICAgICAgICAgICAgICAgICAgICAgICAgICAgICAKICAgICAgICAgICAgICAgICAgICAgICAgICAgICAgICAgICAgICAgICAgICAgICAgICAgICAgICAgICAgICAgICAgICAgICAgICAgICAgICAgICAgICAgICAgICAgICAgICAgIAogICAgICAgICAgICAgICAgICAgICAgICAgICAgICAgICAgICAgICAgICAgICAgICAgICAgICAgICAgICAgICAgICAgICAgICAgICAgICAgICAgICAgICAgICAgICAgICAgICAgCiAgICAgICAgICAgICAgICAgICAgICAgICAgICAgICAgICAgICAgICAgICAgICAgICAgICAgICAgICAgICAgICAgICAgICAgICAgICAgICAgICAgICAgICAgICAgICAgICAgICAKICAgICAgICAgICAgICAgICAgICAgICAgICAgICAgICAgICAgICAgICAgICAgICAgICAgICAgICAgICAgICAgICAgICAgICAgICAgICAgICAgICAgICAgICAgICAgICAgICAgIAogICAgICAgICAgICAgICAgICAgICAgICAgICAgPD94cGFja2V0IGVuZD0ndyc/Pv/bAEMABwUFBgUEBwYFBggHBwgKEQsKCQkKFQ8QDBEYFRoZGBUYFxseJyEbHSUdFxgiLiIlKCkrLCsaIC8zLyoyJyorKv/bAEMBBwgICgkKFAsLFCocGBwqKioqKioqKioqKioqKioqKioqKioqKioqKioqKioqKioqKioqKioqKioqKioqKioqKv/AABEIAJkEKAMBIgACEQEDEQH/xAAfAAABBQEBAQEBAQAAAAAAAAAAAQIDBAUGBwgJCgv/xAC1EAACAQMDAgQDBQUEBAAAAX0BAgMABBEFEiExQQYTUWEHInEUMoGRoQgjQrHBFVLR8CQzYnKCCQoWFxgZGiUmJygpKjQ1Njc4OTpDREVGR0hJSlNUVVZXWFlaY2RlZmdoaWpzdHV2d3h5eoOEhYaHiImKkpOUlZaXmJmaoqOkpaanqKmqsrO0tba3uLm6wsPExcbHyMnK0tPU1dbX2Nna4eLj5OXm5+jp6vHy8/T19vf4+fr/xAAfAQADAQEBAQEBAQEBAAAAAAAAAQIDBAUGBwgJCgv/xAC1EQACAQIEBAMEBwUEBAABAncAAQIDEQQFITEGEkFRB2FxEyIygQgUQpGhscEJIzNS8BVictEKFiQ04SXxFxgZGiYnKCkqNTY3ODk6Q0RFRkdISUpTVFVWV1hZWmNkZWZnaGlqc3R1dnd4eXqCg4SFhoeIiYqSk5SVlpeYmZqio6Slpqeoqaqys7S1tre4ubrCw8TFxsfIycrS09TV1tfY2dri4+Tl5ufo6ery8/T19vf4+fr/2gAMAwEAAhEDEQA/APoKiiigAooooAKKKKACiiigAooooAKKKKACiiigAooooAKKKKACiiigAooooAKKKKACiiigAooooAKKKKACiiigAooooAKKKKACiiigAooooAKKKKACiiigAooooAKKKKACiiigAooooAKKKKACiiigAooooAKKKKACiiigAooooAKKKKACiiigAooooAKKKKACiiigAooooAKKKKACiiigAooooAKKKKACiiigAooooAKKKKACiiigAooooAKKKKACiiigAooooAKKKKACiiigAooooAKKKKACiiigAooooAKKKKACiiigAooooAKKKKACiiigAooooAKKKKACiiigAooooAKKKKACiiigAooooAKKKKACiiigAooooAKKKKACiiigAooooAKKKKACiiigAooooAKKKKACiiigAooooAKKKKACiiigAooooAKKKKACiiigAooooAKKKKACiiigAooooAKKKKACiiigAooooAKKKKACiiigAooooAKKKKACiiigAooooAKKKKACiiigAooooAKKKKACiiigAooooAKKKKACiiigAooooAKKKKACiiigAooooAKKKKACiiigAooooAKKKKACiiigAooooAKKKKACiiigAooooAKKKKACiiigAooooAKKKKACiiigAooooAKKKKACiiigAooooAKKKKACiiigAooooAKKKKACiiigAooooAKKKKACiiigAooooAKKKKACiiigAooooAKKKKACiisnxXq7aB4R1XVUAL2dpJKgPQsFOP1xSbsrjSu7E0+v6Pa6pHptzq1jDfyY2Wslyiyt9EJyfyrQrg/A2g2mo/CC1h1GJLmTWLQ3N5JIu5ppJAWLMepIyMHtgY6VP8I9dudf+G1hPqEjTXVuz2skjHJfy2IBJ7nGK0cbNrqiFK6T6M7WiiioKCiiigAorO1rXbPQreN7sySSzv5dvbQJvluH/uoo5J7nsBySBzVGHS/E+uL5mp3w8P2zfdtLALLcYz/HK4KqSMcIpxzhjQBv0Vkx+AdEWRpbh9Tu5GzlrnVblx+CmTaPwAph8CW1uGOjaxrWmyEggjUHuVGP9icuuPoBQLU2aK5ufVdZ8MHd4niivdNB51WxjK+SM9ZockqOmXUkdSQoroopY54UlgkWSORQyOjZVgehBHUUDHUUUUAFFFFABRRRQBDeXtrp1o91qFzDa28Yy808gRFHqSeBTNP1Kx1a0F1pd7b3tuxIE1tKsiEjr8ykiuDuLw678fItJudslnommG7SFuR9odgA+OmQp4z0yadqt3/wj/xx0RLUCOHxDZzQ3SKMB5IhuSQju2Plz6U4q9vO/wCF/wDIlu1/K342/wAz0OiiikUFFFFABRRRQAUUVz9x4hutQ1CbTPCdql9cwNtubyZitrat3VmHLvjnYvT+IrkUAdBRWGngu5vVLeIvEep3rOBmGzkNjCvrtEREmD/tO1Sv8PtAeJUCahGV6SR6tdLJ+LiTJ/EmmLU16KxJfDOtab+98Pa9NOqj/jy1b99G30lAEin3Jf6U7SvEIvL5tM1O1fTNWjUu1pKwYSIDjfE44kTpyMEZG4A8UhmzRRRQAUUUUAFFFFABWfY6/o+p3ctrpurWN3cQcSw29ykjx9vmUHI/GuP+L+qz2nh3TdJtpWhbW9ShsZHU4IiY/OAevIGPoTSfFe3i0P4eJq2kQxWtzoM0M1m0ahfLAdVKDH8JUkEdCKa7vvb8v8w1vZb2v/X3HoNFQ2Vyt5YW90gws0SyAexGf61NQ1Z2Yk01dBRRRSGFFFFABRRVHVtZstEsxcX8jAO4jijRS8kznoiKOWY+goAvUVz0Nj4p1/Et5cDw1ZNytvbhJrthx992BjQ9flUP1+9VtPAOjGXzbuXVL2U9WuNUuGH/AHwHCj8AKBGtRWM3gOyh3tpGqa1pkrDho9RkmVT7RzF0/DHSqs99r3hhTJr6Jq2mKfm1CyhKSwL/AHpYcnIHdk+u0DmgDo6KjtrmC8tY7m0mSeCVQ0ckbBlYHoQR1qSgYUUUUAFFFFABVe+1Cz0y0a61K7gs7dPvTXEgjRfqTwKsV51bXf8AwkHx6vbS6xJa+HtPQ28TDIWeUgmQD+8FO3PbmmtXYTdlc72xv7PU7RLrTbuC7t3+7NbyCRG+jDg1YrzyW6/sH48Wtna4jtfEGnO88SjAM8RJEh9yvGe/Gegr0Ojon3/zsF9Wu3+VwooopDCiiigAooooAKK5xtev9cuJbXwbbw3CROY5tUuiRbRMOCEA5mYHghSFHILAjFWR4IN4mdf1/V9QctuKwXLWUa+wWEqcf7zMfemI2qKyH+H+gtEiRjUoCgwJINWukf6lhJlj9c1DN4f8Q6Vul0DW21BBz9h1cBg3HRZ0AZfqwekBu0VkaN4hg1Weayngl0/VLYA3Fhc4EiA9GBBIdDzhlJHbggitegYUUUUAFFFFABRRXHfFfxBceGvhpqt/YuY7oosMTg8ozsF3D3AJNJ+Q1qzoY9f0eXVW0uLVrF9QT71otyhlX6pnP6VoVwniDw5Z2nwYnsrWJInsNP8AtMEqjDJOibxKD13bhnPXk1v+C9Zk8Q+CNI1Wf/XXVqjyY/v4w36g1bW/l/X6EJ3s+/8AwP8AM3KKKKkoKKKKACiiigAorN1nXrTRIYvtHmTXFw2y2tIF3zXD+ir/ADJwAOSQKpRaT4n1vEuq6iNBtm5FnpwWSfGf45nBUcdQi8dmNAG/RWTH4B0RXZ521K7kbq1zqtzJ+QMmB+AFRjwJbWik6LrOtadJkEE6hJdLx/sTlxj1xg+/SgWptUVzU+sav4XOfFkUNxpoOP7XskKrFz1miOTGOmXBZepO0V0iSJLGskTK6MAyspyCD0INAxaKKKACiiigAqC7vrTT4DPf3UNtEoJMk0gRQByeTU9ef/Gy1t3+FWs3DwRNOqRBZSgLAeavGevc/nR1Q0rux36sGUMpBBGQQetLUFj/AMg+3/65L/IVPTas7Exd0mFFFFIYUUUUAFFFFABRRRQAUUUUAFFFFABRRRQAUUUUAFFFFABXH/EfVdT0vTtJGj38lhJdaj5EksUcbts8iZ8AOrD7yLziuwrhPin/AMeXh/8A7C3/ALaXFNbiexy/9ueKf+hs1D/wGs//AIxR/bnin/obNQ/8BrP/AOMVXoqhWLH9ueKf+hs1D/wGs/8A4xR/bnin/obNQ/8AAaz/APjFV6KAsej/AA/1K+1bwZb3Wq3TXd19ouommdFUuI7iRFyFAXO1R0ArpK5L4Yf8iFB/1+33/pZNXW1L3GtgoqlqWs6Zo1uZ9X1G1sYv79zMsY/Mmuc034qeEdZ8UW/h/R9U+3X1wWC+TExjG1C5+cgA8KemaLMLo7CiiikMKzvEGkrr3hvUdKkbYt7bPBu/u7lIzWjRSaurDTs7nnvhXxNZ+HvAVromsSLa65ptqbY6aT+/nZAQpiT70gYAEFQRz7Gtb4ZeG5/CvgCw0++ULeNunuFBztd2LFfwyB+FdZRVuTbb6shRskuiCiiipKCqmq6lb6PpVzqF6zCC3jLvtXcxx2AHUk8Adyat1z2uINU8V+H9Gdv3XmSalcRlciRINoQH0xLJE3/AKALPhbQJ1nbxD4hTdrd4mBGTlbCE8iBP03N/E3sAB09FFABRXz5448ceJIviBd+JdGvroeGvDN/b2F1bRyssdwzZ80lQcNg/Lz6rX0BDNHcW8c0LB45FDow6EEZBp291S/rv+KFf3uX+v6Q8gEEEZB6g1xK2v/CFeIILS348P6rKUgj5xY3Jydg9I5OcD+FuB94AdtWV4m0ca/4ZvtNzskmiPkyd4pR80bj3VwrD3FIZNRWb4d1Q634Z07U2jMT3dtHK8ZGCjFQSp+hyK0qACiuf1rx74V8PbxrGv2NvIg3ND5oeTH+4uW/SuJm/aD8LS6xa6do9tfX8lzMkSzeWIowWYL/Ed3f+7Ts2JySPVqKKKQzgNVs18M/FuLxXd/JpV/pxsrq5OdtrIrBlZz0VSBjJ4BHPWhraLxf8VtI1vTZEutJ0SzlK3kTBopp5flCow4bCgkkE4OBXf0U07W8r/jf/ADE1e/nb8Lf5BRRRSGFFeZav8dPD3h7xhe6BrdnfQtaS+WbmJVkQ/KDkjIYdewNdLovxL8HeINg0zxDZNJIcLDM/kyE+gV8E/lTsxcyOoooBDKCpyDyCO9FIZz2u3F1qmrQeGdJmaCW4j8+/uYzhra2zj5T2dyCqnth2/hrp9O0600jToLDTbdLe1gXZHEg4Uf4+/euf8DR/abXUtclUiXVb6RlJbOIYmMUQHoCqb8ern1rqaBBRXifhrw/f+OPGnjT7f4y8VWEWnas0FvDp2qNFGqEk42kHGMcYxTvG+n678JdOtfEui+MNc1a2S6jiu7DWroXKyoxP3SQNp+nPfPFUle3nb8dhNu7str/ge1Vk+IfD9v4h08RSu9vdQt5tpeRY822kHR1P6EdGBIOQa1I38yJHAI3KDg9qdU7D0aOZ8OatPqNnPb6lGsOp2Extr2Nfu7wAQ6/7LqVYezY6g1r1hasg0z4haZeIQqavbyWUw/vyxgyxH8FE4/L0rdoGFFQ3V5bWMBmvbiK3iXrJK4RR+JridZ+NPgTRsq+tx3smMhLFDNn/AIEPl/WnZsTaW53lFcP8PvijYfEW81KLS7C5tYrFY233DLufeW/hXOMbfXvXcUWsCaauji/ihoF1rPh6yvNOga5u9Hv4dQjt1+9MEPzIPcgnH0rN8d6lY+PPCDeHfDN5Fe3mozwxzRxNua0QOGdpR1jwFPDYJPA5r0aihaaPvf8AL/Ibvuv6/q5HbQJa2sVvEMJEgRR7AYFSUUUm76iSsrIKKwvGviiPwZ4RvNemtmuo7Qx7oUfaWDyKnB9t2fwrjtF/aA8EartW7ubnS5WONt3ASuf95Nwx7nFOzYOSTsz06is/SvEGj65F5mjapZ3y9zbzq+Prg8VoUhkF9e2+m6fcX17KsNtbRtLLI3RVUZJ/IVl+FtKuL2YeJtfhK39yv+iWsmD/AGfAeiD0kYYLn1+XOBUXiWL+09Q0TRCMw3l4JrkZxmGEeYR7guI1I7hjXX0CCiob28t9OsZ7y+mWC3t0MksjnARQMkmvN7Dxx438bxyXngDQtNs9JV9sN/r8kg+1AZBKRx8gZ7k4/HgC12Bu256dRXnNj8Qtb0LxRY+HviRpdnYzaidlnqenSs1rNJn7hD/Mh5A5zye1ejU7aXBO+hxN1ar4J12O4tF8vQNVuBHPCPu2dy5wsi/3UkYhSBwHZT/E1dPTtZ0uDW9EvNMuwfJu4WiYg4IyMZB7EdQfUVi+E9Rn1Twnp9zelGu/K8q6KHI85CUkx/wNWoA2KKKw9Z8a+GvD+RrOuWNo4GfLeYFz/wAAHzH8qQzcoryPWf2jfCNhldKgvtUfHDJH5Sfm+G/8dr1ym01uJNPYK8+ubePwl8W7rxFflYdJ1mxWGW8ckJbzxkY3t0VWXoTgZGO9eg0Ulo7jeqscDbWieKPi3beI7Jln0nSdOaGG6Q5SeaQnOxujAL1IJGTj1rvqKKfRL+u4rat/1tYKKK818RfG/QvCvja98O61Y3qG1MY+1QhXU741fJGQRjdjjPShJvYG0tz0qiuT0X4oeC9f2DT/ABDZiRzhYrhvJcn0Cvgn8K6tXV1DIwZSMgg5BpDvcWuc1X7R4i14eHLKaSC0hRZ9VuIyQ3ltnZArdmfBLEchR2LAjomYIhZzhVGSfQVkfD+ISeFY9XbmfW5G1KRiMErJzGv/AAGPy1/4DQI6K2toLK1jtrSFIIIlCRxRqFVFHQADoKlory/xD428av8AFmTwd4Ph0HCWC3fm6ok3rgjMbe4xx+NC1dgbsrnqFFeaXmtfFrQLWTUdU0bwzrNpCpaW20maeOfA6keZkHjPAGa7Lwp4o07xj4btta0dy1vOOUfho2HVGHYg07aXFza2G+JvDo1y1jmtJRaatZkyWN6BkxP6MB95G6Mvce4BEGgax/bWlieSE291DI0F3bt1hmQ4Zfcdwe4IPeuirkpEGl/EmRI1Kxa3YmdsAbfOgZUJ+rJIg+kVIZvUUVXvdQstNt2uNRu4LSFRlpZ5QigfUnFAyxRXn+tfG/wJo29f7X/tCVRny7GMy7vYNwn/AI9Wn8P/AIg2fxC0+9vdOsp7WG1nEI89huc7Qc4HA6+pp2e4uZXsdbXMfEbw1L4t8A6npFtj7TLGHgycAuhDKPxIx+NdPRUspOzPPdX8VWmsfDm60qwYN4gurD7L/ZGf9JildQhDR9VUE8sRjHOa6zwtoo8O+E9M0gMGNnbJEzDozAcn881rUVble/n/AF+pCVrLt/X6BRRXPeN/F0HgjwxJrd1ayXUMUqI0cbANhjjIzxUlbHQ0V5vovx58DavsWe+m0yVzjZewlQP+BLuUfiRXd6brOmazbifSNRtb6L+/bTLIPzBptNCTT2LtU9X1S30XR7nUbzcYrdC5VFyznoFUd2JwAO5Iq5XPavH/AGr4z0HSXUtbw+Zqk4x8reVtWJT/ANtJQ494/akMueFtBnt2fXNfVX1y9T94Ady2kfUQR+w7n+Jsn0A6Sio7iQxW0si4JRCwz7Ck3ZXYJX0JKK8h8JeKfiz4z8N2+uaVF4MitbhnVEuVu1cbWKnIUkdR610enf8AC2v7Ttv7W/4Qv7D5q/aPs32vzfLz82zdxuxnGeM1pytOzI5ux3TKHUq4DKwwQRkEVxNva/8ACE6/BpsO7/hH9TcrZqckWNxyfJB7RuASo/hYFRwygdvWP4s0htc8K39jC3l3LRb7aXbkxTod0bgeodVP4VBRZoqjoepx634f0/VIfuXttHOox03KD/Wr1AwooooAK85+OOrafa/DHU7C5vraK8uUjMNs8qiSUCVclVzk4x2r0aijqNOzuZugatp2saNBcaTfW17CqKjSW8qyBWCjKkg8Hnp1rSoopt3dyYqysFFFVdT1GDSNIvNSvCwt7OB7iUqMkIiljgd+BSGWqK5HRfip4K17aLHxDaLIxwIrljA5PoA+M/hXWo6yIHjYOrDIZTkGgV0xa5v4galfaT4MuLrSrprS6+0WsSzIisUElxGjYDArnax6g10lcl8T/wDkQp/+v2x/9LIaa3B7HE/254p/6GzUP/Aaz/8AjFH9ueKf+hs1D/wGs/8A4xVeiqFYsf254p/6GzUP/Aaz/wDjFH9ueKf+hs1D/wABrP8A+MVXooCx3fw41XU9U07VhrF/JfyWuo+RHLLHGjbPIhfBCKo+87c4rsK4T4Wf8eXiD/sLf+2lvXd1L3GtgooopDCiiigAooooAK4T4p/8eXh//sLf+2lxXd1wnxT/AOPLw/8A9hb/ANtLimtxPY4+iiimAUUUUASaTrnxB0zwKi+DvDFlqEAvb3bcyXW5/wDj6lzmL5O+QMM3Y+1eW+LviL8UDK8Ov3epaMjtgQxW5tBx2DABiPxP5V9GfDD/AJEKD/r9vv8A0smrqpYYriIxzxpLG3VXUEH8DT5rPYhxbW58D3FxPd3Dz3U0k8znLSSMWZj7k8muz+Db3kfxa0ZtMgguLoefsiuJzCjfuJM5cI5HGT90+nHWvpTWfhF4H1zJufD9tBITnzLPMBz6/JgH8QawvDXwM0rwj45sPEOjardlLQyE2tyqvuDxsmAwxjG7PIPSr500Z+zknc7H7Z4x/wCgFof/AIOpv/kWj7Z4x/6AWh/+Dqb/AORa6Cisjexz/wBs8Y/9ALQ//B1N/wDItH2zxj/0AtD/APB1N/8AItdBRQFjn/tnjH/oBaH/AODqb/5Fo+2eMf8AoBaH/wCDqb/5FroKKAsc/wDbPGP/AEAtD/8AB1N/8i0fbPGP/QC0P/wdTf8AyLXQUUBY5/7Z4x/6AWh/+Dqb/wCRag0afVJfiMg1uzsbOX+ypPJW1vWuN6iaPcfmijxglemeorp657X3XS/Eeg66yjyopnsLmTONkVxtAP8A39SEewJoA7CsLxt4ij8J+CtU1qXrawFoxn7znhB+LEVu1wHxL8Nav4w1Hw7o1vZ79CF8LrVZzKqgIn3Y9pO47snoDjiptze73He2vY818NeNfh3B8F7jwzrPiMHUdThllvXNlcMRcSc5JCEEqdozn+Gu9+AniceIfhfa28j7rnSWNnJ7qOUP02kD8DXpgAUAAYA6CvN9A8K634b+NuuajZ2e7w3rcCzSyrKgEVwP9ndu5O7kD+L2rXmUm/P9NvwuvuMuVpJ9v13/AB1PSKKKyPFWs/2D4Yvb6Nd9wqeXbRZwZZ3O2NB7lyo/GszU4KKx8a3Xg6EeDNX0qxUmbylubNmcfvXwQ+5lxjGPk/OvIPGnhH4xz+adbk1HVrYrhhY3G+Jh3/dJj/0GvpTQNKXQ/Dmn6VGxcWdtHBvbq5VQCx9yea0KpSsQ43Pga7s7qwuDBfW01tMvWOaMow/A81b8OCU+KdKFuyLKb2HYzqWUNvGCQCMjPbIr7kv9LsNVtzBqljb3kLDBjuIlkU/gRXHXXwY8ET6nBqFtpRsLmCVJUa0lZFypyPk5Xt6VftDL2Tvoa32Xxx/0GfD/AP4KZ/8A5Jo+y+OP+gz4f/8ABTP/APJNdLRWdzexzX2Xxx/0GfD/AP4KZ/8A5Jo+y+OP+gz4f/8ABTP/APJNdLRRcLHNfZfHH/QZ8P8A/gpn/wDkmj7L44/6DPh//wAFM/8A8k10tFFwsfFvxTW8T4oa2upSwTXQnHmPbxGNGOxeilmI/M1ysMMtxMsNvG8srnCoilmY+wFfY178IfB+qeJrrXdW0+S+vLqTzHE0zeWDgDAVcAjjvmun0vQtJ0SHytH0y0sU/u28Cpn8hzWntLIx9k27ny14M8IfFmNom8NxatpcG4kefObeIe5jcjcP+AmvfvB2m/EW0SL/AIS/XdJu0B+dI7RmkI9N6lFB99p/rXbUVDlc0jBRMn4dB1+Gvh9Zs+athEJdxyd+0bsnuc5rpa5XwRL9j/tbw/Kx83Tb2SSMMeWt52MsbD2G50+sZrqqkpbHhPg7Q/FGreOvHj+GfF//AAj8cesuJY/7MiuvNOWwcuRjHoKd8QfC/i3QrO08UeKdfh8a6Zo8yzzabPZiyUc4DgRnDEE/xDpnrWlott4+8GeLvFdxpvgX+2bTV9Sa5hm/teC3wuTj5Tk8574q14itviL8RtJfw/e+GrXwnp1w6fbLqXUku5HjByVRYxweB1qle0eXol+S/r8iZW5pc3Vv838v61PS9H1SDW9DstUs93kXkCTx7hghWUEZ/OrtVNK0230fR7TTbJStvZwpDGD12qAB/KrdErcz5dhxvyq+5yfjkFrzwusLiO5OsfuGZdyhvstxksMgkbd3AI5xzXBeMtB+MV3uOieItNaDaf3VnF9lkP0L7sf99iu91GQar8RLK2jw0Wi2z3Mx25xPMNkYB9RH5pI9HX1rdpXsFrnxX4o8J+O7Scz+KtN1eZlBJuJy06gf9dAWH61ydfoBWDrPgfwx4h3HWNCsbl2GDKYQsn/fYw361oqhk6XZng/7O0Wty3Wv/wBg3mn2pCW/m/bbR593MmNu2RMd+ufwr3H7L44/6DPh/wD8FM//AMk1H4R+HegeB7y+n8OxTwC+VFkieYuo2bsYzz/EepNdTUSd3c0jGyszmvsvjj/oM+H/APwUz/8AyTR9l8cf9Bnw/wD+Cmf/AOSa6WilcqxzX2Xxx/0GfD//AIKZ/wD5Jo+y+OP+gz4f/wDBTP8A/JNdLRRcLHknxit/FSfCfWW1bUtHntB5HmR22nSxSH9/HjDNOwHOP4Txn618tV91eKPDdl4t8OXOiaq0y2lyYzJ5LBWOx1cDJB6lQD7Z6daxdG+E/gjQtps/D1rLIp3CS6BnYH1G/OPwxVxmkjKdNyZ8h6Joeu6vcq3h/Tr+7lRwA9pC7bG/3lHy/WvbvBnhf4323l51kWFuGGY9VuFuMr7DDkfTK/hXvkcaRRhIkVEUYCqMAfhTqTnccadupx+nQ6vB8RdAHiG8tLu4/su/CyWls0Kg+Za8EM7Z4B6Y+ld/XH+KpTplxpGvbisOnXgF1gA/uJVMbE+gUsjk+iGuwqTRHmf7QN1NbfB+/EDlPOmhicg9VLgkfpXd+HbKDTvDOmWdmgSCC1jSNR2AUVQ8deFo/GfgvUdClfyjcx/upP7kikMpPtkDPtXDeG/ihD4N0K20P4oW15omoWCC3W6e2klgu1UYVkdA2Tgc/wCQCPwyXnf8Lf16il8Sl0s/6/rseg+I/Cei+LbSC28QWX2uK3mE8Q814yjgEAgoQe9bA4FeMeI57j42axpWlaFZXcXhSzuVu73VLmBoVucD5UiDYLZBPOO4P19mACqABgAYAp2ajr/Xn/XYLpy0/ry/ruLXldhaeLrnw5f/APCHapplkDq2peWt5aO5/wCPybGHDEAe2w16Jr2rxaDoF7qlwCyWsTOEUZaRv4UA7ljgAepFZfhfTZtI8L6fZXbB7mOEG4ZRgNK3zOfxYsaQz548Z+FPjTNvOq3N9qtuFOf7OuQUb28pNpP/AHzXkd7YXmm3Bt9RtJ7SYDJinjKMB9DzX3xVe90+y1K3a31G0gu4WGGiniDqR9CMVanYylSv1Pgevtv7L44/6DPh/wD8FM//AMk1ia18EPAms72/sj+z5WGPMsZDFt9wvKf+O16BSlK44Qcdzmvsvjj/AKDPh/8A8FM//wAk0fZfHH/QZ8P/APgpn/8Akmuloqbmljmvsvjj/oM+H/8AwUz/APyTR9l8cf8AQZ8P/wDgpn/+Sa6Wii4WOa+y+OP+gz4f/wDBTP8A/JNfLfxiS+T4sayurTW892PI8yS2haKM/uI8YVmYjjH8R5z9K+ya4nVfhH4S17xVd+INbs5r67umRmSSdljXYioAFXGRhQTknkntxVRlZ6kThzKyPjdEeWRY41Z3YgKqjJJPYCvQ/B3hH4qKyP4YtdY06Lf96SU20Z99rkBh+Br6p0nw5ougx7NF0mzsAev2eBULfUgZP41pU3UJVK3U810XS/ifa6DdjxRr2j3KiCTCC1aSQjaeN67AD74b8a9H8ONG3hbSmhz5ZsoSmTnjYMU8gMpVhkEYIPesbwBL5Hhz+xJBtn0OVrBkyT+7T/Utz6xFD9c+lRuarQ6ivJIf+TsLj/sAj/0IV63Xhuv+KtG8H/tNz6l4ivPsdodFWISeU8nzEggYQE9j2oj8a+f5MU/hfy/NHuXXrXkPwPza6/490yHizttZYwqBwpJcED8FWtO9+OXha5s5YvB73fiDVmUi3srWxmBZugLFlAC5Iya0fhN4PvfCXhOVtc2nWdUuGvb7BB2u3Rcjrgde2SaqKau32t+K/wAhSalZLvf8H/md1XK+K1uX8Q6CmnSxQ3Z+07JJojIijy+dyhlJGdvGRXVVyAddX+JNxcR/NDodn9jDhuPPnKySLj1VI4f++6gs878aaB8aLrzTpWv2UtsVwIdOxayfgW5B/wC2leD+JvDPjGwuXuPFWm6pvUfNc3KvIuP+unIP519uUEZGD0q1OxnKmn1Pz/r6A/Z7h8QyeFtVOhX2mW0QvRvW8spJmLbByCsqYGO2DXrmtfDzwl4h3nVtAsZZHGGlSLy5D/wNcN+tP8IeB9H8D2t1baAk0cF1KJWjlk37TgDgnnHHcmnKd0TGm4u5H9l8cf8AQZ8P/wDgpn/+SaPsvjj/AKDPh/8A8FM//wAk10tFRc1sc19l8cf9Bnw//wCCmf8A+SaPsvjj/oM+H/8AwUz/APyTXS0UXCxzX2Xxx/0GfD//AIKZ/wD5Jrz/AONkHiiP4X3jaxqOkXFr58O5LXT5YnJ3jGGaZh+ley1j+KfC+n+MNCfSNY802kkiOwifaTtOQM46UJ6icbqx8L1teH/D/iTVLqObw1puozyq3yT2kb/If98cD86+utF+F/gvQNh0/wAPWZkQ5WW4TznB9Qz5I/CurVVRQqKFUDAAGAK0dTsZKj3Z4Z4L8N/G218n7VrkVpag/NFqsoumI/AM34bhXqOgx6hF43ZdbuLa5vP7KX95bW7QoR5xyAGZj/dzz6cCujrnNckGk+LdB1x+IC8mmXTFsKiT7TGx/wC2sca/9tDWbdzVKyOyqG8/48Z/+ubfyqaobz/jxn/65t/Ks5/AzSPxI8N+EniXxtp3w10+20LwB/bFijzeXef2zDb+ZmRifkYZGDke+K9G0HxN421DWoLbXPh//ZFi+7zL3+2oZ/LwpI+RRk5OB+Nec/CT4s+CvC/w10/Sdd1r7LfQvMZIvskz7d0jMOVQjoR3rvLH42fD7UtQt7Gy8Qebc3MqwxJ9iuBudjgDJjwOT3rqmm5uyuc8WktXY7yiisXxfqsmj+Fb25tgHvHTyLSMn788h2Rr/wB9MPwzWBscb4T1DxSvhTTxpmg6VcWflZgmfV3jMiZO07RAwGR6E/Wtj+0vGn/QtaP/AODuT/5GrZ0bTYtG0Ox0y2GIrO3jgT6KoUfyq5TFZnNf2l40/wCha0f/AMHcn/yNR/aXjT/oWtH/APB3J/8AI1dLRQFjmv7S8af9C1o//g7k/wDkaj+0vGn/AELWj/8Ag7k/+Rq6WigLHNf2l40/6FrR/wDwdyf/ACNR/aXjT/oWtH/8Hcn/AMjV0tFAWOa/tLxp/wBC1o//AIO5P/kasTxrqHi1/APiBbvw9pUMDaZciWSPWHdkXymyQv2cZIHbIz6ivQKz/EGlnXPDOp6SJfIN/Zy2wlK7tm9Cu7GRnGc4oTE07HwfWppHiXXNAcNourXtjg7tsE7KpPuoOD+NfR2jfs4eE7Ha2rXV9qj45UuIYz+C/N/49XoGjeB/DHh7adH0KxtnUYEohDSf99nLfrWrmjBUpHiPgz4ifGG98sW+iPrkB5826s/JBHtINi/nmvSPF17rt78NZpPEWkW+lz/bLH93Deef/wAvcPXCgD8zXolcl8T/APkQp/8Ar9sf/SyGs73ZtZpbnA0UUUFBRRRQB2Hws/48vEH/AGFv/bS3ru64T4Wf8eXiD/sLf+2lvXd0nuC2CiiikMKKKKACiiigArh/ijBcS6ZosltZ3V0INU8yVbW2edlX7NOu4qgJxllGcdxXcUUCZ4f5lz/0B9c/8E13/wDG6PMuf+gPrn/gmu//AI3XuFFVcLM8P8y5/wCgPrn/AIJrv/43R5lz/wBAfXP/AATXf/xuvcKKLhZnK/DaCe38CWyXVvPbSNdXcnlXETROFa6lZSVYAjKkHkd66qiipGtgooooAKKKKACiiigAooooAKKKKACq+oWFvqmm3FjfRiW3uIzHIh7gjFWKKAMXwzrNxaXK+GvEMpOowJ/ot1JgDUIR/GP9sDG9fXkcGuprC1jRbHXbH7LqUPmIGDo6sUeJx0dHHKsOxBzWbFP4r0LKFIvElkoO1i6294o7A5/dyH3zH+PWgR19FcwfHNtDGpvtE1+2dhyg0yScqfQmEOP1xQ/i+6nKrpHhnVrln6SXKJaxpx/EZGD/AJIaAudLJIkUbSSsqIgLMzHAUDqSa4u0uT411u31ZUddC09y+n7xj7ZNgr5+P7gBITPUkt02mpG0LU/EEiyeMLqF7ZTuXSbLP2fPH+tc/NNgjoQq/wCyetdEqhFCqAqgYAA4AoAWiiigYUUUUAFFFFABRRRQAUUUUAFFFFABRRRQBgeILO9tL638RaJC1xe2aGOe0VsG8tycsgzxvBG5M98jgMTXQaPrFjr2lxahpc4mt5QcHGCpHBVgeVYHgg8gjFJWDfeHJE1GXVfDd7/ZWpS4Mx8vzILrAwPNjyMnp8ylW4644oEdbRXLReJtasmEet+Gp36/6TpUy3EZHqVYrID7BW+tPXx1YvIYo9K15pRkFTpE6Dj/AG2UKfzoGdNWP4h8QR6JbpHDH9r1K5ytnYq2Hnf+ijqzHgD8BWTLrfijVlMej6MmjRtkfa9WdZHX0KwRMc/8Cdcehqzo/h6DS7ia9mnm1DUrgYnvrogyMP7q4ACIOyqAO/J5oEHh3R5NJ0+Q3kq3Go3kpub64UYEsrAA4HZQAFUdlUVrUUUDCiiigAooooAKKKKACiiigAooooAKKKKAIrm2hvLSW2uo1lgmQxyRsMhlIwQfwrF8NalNolzH4Y16bLplNLvJG/4/YgOEJP8Ay1QcEdWA3Dvjfqnqmk2WtWDWep26zwsQwB4KsOQykcqwPII5FAG3RXHxHxVoB2QPH4jsB91LiQQ3kY54342S9h82w+rGrP8AwnMMMStqGg69aOeDGNOe4IP1g3j8c0COnpCQqksQABkk9q5lvGM06qNJ8N6xdM/Rp4VtUX3bzSrD8FJ9qpT6Lq/iXA8W3UUNgR82kWDN5cntNKQGkH+yAqnuGoAYbn/hONcgmg58OaZN5kchHGoXKn5WX1ijPIP8T4I4XJ6imxxpFGscSKiKMKqjAA9AKdQMKKKKACiiigAooooAKKKKACiiigAooooAK53WYrrRNZXxNpcMlwoiEOp2kS5aeEElZEA5MiEsQB95Sw67a6KigCewv7XVLGK90+4jubaZd0csbZVhViuQn8OXNjqMupeFL4abcTNuuLSSPzLW5bPLMgIKuf76EE/xBqmh8VatbMItc8L3kbbebjTpUuoSfblZPzT8aBHU0VzKeOrKYlbfSdekcdVbSJ4v/HnVV/Wq76r4r1lQmn6bF4fgYfNcag6z3C8/wxRkoDjuXOD/AAmgLl7xP4kOkiHTtLjW71u+BW0tuyjvLJj7sa5yT34AySBRoOkJoekR2gme4ly0k9xIBunlY5dzjuSTx24Ham6NoFroqyyRtLc3lxg3N7ctvmnI6Fj0A9FACjsBWnQMKKKKACiiigAooooAKKKKACiiigAooooAKq6ppttrGlXOnX6F7e5jMcgBwcHuD2I6g9jVqigDG8M69Ol2fDfiFyNXt0LQzMMLqEI481P9ocB16g89CDXUVg6votlrdqsF/EW2NvilRikkLjo6MOVYeorOhufFehL5csUXiSzRflkV1t7wADowOI5D15yn0piOvormG8c2sKKb3RdftnPVBpck5B9CYQ4/XFJJ4vvLjauj+GNUuWcZEl0EtY0443bzv/JDSC50s00dvA808ixRRqWd3OFUDkknsK460kfxdr0GtOrpo1gW/s1HGPtUhGDckddoBIT1DM3dacdA1HXpUm8Y3cU0KMHTSrMMLZSOnmE/NMQfUBeny5Ga6MAAAAYA6AUDCiiigAooooAKKKKACiiigAooooAKKKKACuV+JME9x4EuUtbee5kW6tJPKt4mlcqt1EzEKoJOFBPA7V1VFAM8P8y5/wCgPrn/AIJrv/43R5lz/wBAfXP/AATXf/xuvcKKq4rM8P8AMuf+gPrn/gmu/wD43R5lz/0B9c/8E13/APG69woouFmcP8LoLiLTNakubO6tRPqnmRLdWzwMy/ZoF3BXAOMqwzjsa7iiipBBRRRQMKKKKACiiigAooooAKKKKACiiigAooooAKKKKACiiigAooooAKKKKACiiigAooooAKKKKACiiigAooooAKKKKACiiigAooooAKKKKACiiigAooooAKKKKACiiigAooooAKKKKACiiigAooooAKKKKACiiigAooooAKKKKACiiigAooooAKKyYPFGj3Pim48OQ3m7VrWETzW/lONqHGDuxtP3hwDnmtajzAKKKKACiismDxRo9z4puPDkN5u1a1hE81v5Tjahxg7sbT94cA55o30A1qKKKACiiigAooooAKKKKACiiigAooooAKKKKACiiigAooooAKKKKACiiigAooooAKKKKACiiigAooooAKKKKACiiigAooooAKKKKACiiigAooooAKKKKACiiigAooooAKKKKACiiigAooooAKKKKACiiigAooooAKKKKACiiigAooooAKKKKACiiigAooooAKKKKACiiigAooooAKKKKACiiigAooooAKKKKACiiigAooooAKKKKACiiigAooooAKKKKACiiigAooooAKKKKACiiigAooooAKKKKACiiigAooooAKKKKACiiigAooooAKKKKACiiigAqC9vINOsJ728cR29vG0sjn+FVGSfyFT1R1rSodc0G+0q5ZlivYHgdl6gMCMj86TvbQatfU8sX4jfEvxNCNS8C+C7V9HZmEU1/Mu+YA43AeYmOnQA/Wun8EfESfxfbarY3GkvpniHSwRNYTNkEkHaQTjgkc/Uc85rkNKsfix8NrGPS9NsNP8AFGjW7MIdrbJkTOQOSCOTnGHxzzjFdH8PvHOj+KfE19BdeGD4f8UpCGulngAlljBA+/tVjj5eGA7YzitbJpqO34mN5Jpy3/A8v0vVviWvxp1S6tvD2mv4jeyRbqzaRfKjh/d4YHzsZ4X+I9TxXqnjv4l3XhzXLLw34c0ZtZ8QXsfmLBu2pEvOCfXoeMjAGSayND/5Ok8Rf9ghP/aNS+LPHsGn/ET+yfCHg+LXvFEcOJ7oIqNCmM7TJjOMEZyQBkDrRe8YK3R/qOzi5O/b8kUJfiZ8RPCUa33xC8GW0WlGRUe40+YExZ4yQJHz2xnb9ea9B8V+JX0n4e3/AIi0fyZ2is/tNv5qko4IBGQCDjB9RXkPxEuvilqXw31KXxfY6NpGmx7PNhtyXml/eLtAIdwBk56jpXc+Jf8Ak3Gb/sBRf+i1qZ/w5S6r/IcX76XR9/Vf5mTpPxP8Z+LtP06TwZ4YgvQqxjU72c+XCkhxvSJWdSdueuT9O9cNperfEtfjTql1beHtNfxG9ki3Vm0i+VHD+7wwPnYzwv8AEep4r2X4TQRW/wAJ/D6wIqBrUOwA6sSST+JNcvof/J0niL/sEJ/7RrVWjWaS7/kQrypXb7fmj1hc7Ru4OOaWiisDYKKKKACiiigAooooAKKKKACiiigAooooAKKKKACiiigAooooAKKKKACiiigAooooAKKKKACiiigAooooAKKKKACiiigAooooAKKKKACiiigAooooAKKKKACiiigAooooAKKKKACiiigAooooAKKKKACiiigAooooAKKKKACiiigAooooAKKKKACiiigAooooAKKKKACiiigAooooAKKKKACiiigAooooAKKKKACiiigAooooAKKKKACiiigAooooAKKKKACiiigAooooAKKKKACiiigAooooAKKKKACiiigAooooAKKKKACiiigAooooAKKKKACs/XtPn1Xw/fWFneTWNxcQMkVzC5V4mI4YEc8GtCik1dWGtHc8V03x38SfB2nxaPr/AID1DxBPbgouoW0zyecoPBZlR8n3JB9RW14C0HxLq3j6+8deMbBNJlltRaWdgrZZUyCWb8u/PJ4HFeoUVpza36mfJ0voeLeJj4n8GfG688UaX4WvNfstRsktwLQMdmAgOSqtggp3HINGt2Piz4ffFHU/FmgeHpfEOm6xEomgt8mWJuOPlBYcjOdpGDz0r2mikpWS8rr5PoOUea9+tvvR4j4tt/iH8T/B14s2gDw9p8UYnjsZJPMub2QchTkDaOpwQDkDr22I5tc1/wDZ3v7O88O3thqMNj9jjs2icyz7FUBwhUMM88YPTqa9WopNpxcejBR95SvqjmPhtaXNj8NdCtb63ltriK0VZIZkKOh9CDyDXnviY+J/BnxuvPFGl+FrzX7LUbJLcC0DHZgIDkqrYIKdxyDXtNFVzfvOf1/EFG0OT+tBFOVBIwSOnpS0UVBQUUUUAFFFFABRRRQAUUUUAFFFFABRRRQAUUUUAFFFFABRRRQAUUUUAFFFFABRRRQAUUUUAFFFFABRRRQAUUUUAFFFFABRRRQAUUUUAFFFFABRRRQAUUUUAFFFFABRRRQAUUUUAFFFFABRRRQAUUUUAFFFFABRRRQAUUUUAFFFFABRRRQAUUUUAFFFFABRRRQAUUUUAFFFFABRRRQAUUUUAFFFFABRRRQAUUUUAFFFFABRRRQAUUUUAFFFFABRRRQAUUUUAFFFFABRRRQAUUUUAFFFFABRRRQAUUUUAFFFFABRRRQAUUUUAFFFFABRRRQAUUUUAFFFFABRRRQAUUUUAFFFFABRRRQAUUUUAFFFFABRRRQAUUUUAFFFFABRRRQAUUUUAFFFFABRRRQAUUUUAFFFFABRRRQAUUUUAFFFFABRRRQAUUUUAFFFFABRRRQAUUUUAFFFFABRRRQAUUUUAFFFFABRRRQAUUUUAFFFFABRRRQAUUUUAFFFFABRRRQAUUUUAFFFFAH/2Q==)\n",
        "\n",
        "Using reinforcement learning on this example is to see if we can accurately predict each of these states' values through a model-free approach. The ground truth values are simply the probabilities for each state to gain a reward w.r.t. ending in state 'E'. The table below indicates the true value for each of the states that we'll measure our estimates against. Let's talk about our models and what temporal difference is now that we know our data/environment and the target values.\n",
        "\n",
        "States | $V_{\\pi}$\n",
        "---|:---:\n",
        "A|$\\frac{1}{6}$\n",
        "B|$\\frac{2}{6}$\n",
        "C|$\\frac{3}{6}$\n",
        "D|$\\frac{4}{6}$\n",
        "E|$\\frac{5}{6}$\n",
        "\n",
        "Now, let's implement the TD-Learning algorithm."
      ]
    },
    {
      "cell_type": "code",
      "metadata": {
        "id": "kSa_xY5DAv9G",
        "colab_type": "code",
        "colab": {}
      },
      "source": [
        "# 0 is the left terminal state \n",
        "# 6 is the right terminal state \n",
        "# 1 ... 5 represents A ... E\n",
        "states = np.zeros(7)\n",
        "states[1:6] = 0.5\n",
        "# For convenience, we assume all rewards are 0\n",
        "# and the left terminal state has value 0, the right terminal state has value 1\n",
        "# This trick has been used in Gambler's Problem\n",
        "states[6] = 1\n",
        "\n",
        "# set up true state values\n",
        "trueValue = np.zeros(7)\n",
        "trueValue[1:6] = np.arange(1, 6) / 6.0\n",
        "trueValue[6] = 1\n",
        "\n",
        "ACTION_LEFT = 0\n",
        "ACTION_RIGHT = 1\n",
        "\n",
        "# @states: current states value, will be updated\n",
        "# @alpha: step size\n",
        "def temporalDifference(states, alpha=0.05):\n",
        "    #starting from C\n",
        "    state = 3\n",
        "    trajectory = [state]\n",
        "    rewards = [0]\n",
        "    while True:\n",
        "        oldState = state\n",
        "        #walking randomly\n",
        "        if np.random.binomial(1, 0.5) == ACTION_LEFT:\n",
        "            state -= 1\n",
        "        else:\n",
        "            state += 1\n",
        "        # Assume all rewards are 0\n",
        "        reward = 0\n",
        "        trajectory.append(state)\n",
        "        # TD update\n",
        "        states[oldState] = ...\n",
        "        if state == 6 or state == 0:\n",
        "            break\n",
        "        rewards.append(reward)\n",
        "    return trajectory, rewards\n"
      ],
      "execution_count": null,
      "outputs": []
    },
    {
      "cell_type": "code",
      "metadata": {
        "id": "9JoqiBMBNnHG",
        "colab_type": "code",
        "cellView": "form",
        "colab": {
          "base_uri": "https://localhost:8080/",
          "height": 279
        },
        "outputId": "cf0a6636-ad7a-467b-e8aa-6e4b70ca4f15"
      },
      "source": [
        "#@title State Values\n",
        "\n",
        "def stateValue():\n",
        "    episodes = [0,1, 10, 100]\n",
        "    currentStates = np.copy(states)\n",
        "    plt.figure(1)\n",
        "    axisX = np.arange(0, 7)\n",
        "    for i in range(0, episodes[-1] + 1):\n",
        "        if i in episodes:\n",
        "            plt.plot(axisX, currentStates, label=str(i) + ' episodes')\n",
        "        temporalDifference(currentStates)\n",
        "    plt.plot(axisX, trueValue, label='true values')\n",
        "    plt.xlabel('state')\n",
        "    plt.legend()\n",
        "\n",
        "stateValue()"
      ],
      "execution_count": null,
      "outputs": [
        {
          "output_type": "display_data",
          "data": {
            "image/png": "[encoded data removed]",
            "text/plain": [
              "<Figure size 432x288 with 1 Axes>"
            ]
          },
          "metadata": {
            "tags": [],
            "needs_background": "light"
          }
        }
      ]
    },
    {
      "cell_type": "markdown",
      "metadata": {
        "id": "DAxclWhdZi4L",
        "colab_type": "text"
      },
      "source": [
        "#Section 2: Introduction to Q-Learning\n",
        "\n",
        "__Grid Worlds:__\n",
        "\n",
        "As pointed out, bandits only have a single state and immediate rewards for our actions. Many problems we are interested in have multiple states and delayed rewards, i.e. we won't know if the choices we made will pay off over time, or which actions we took contributed to the outcomes we observed.\n",
        "\n",
        "To explore these ideas, we turn a common problem setting: the grid world. Grid worlds are simple environments where each state corresponds to a tile on a 2D grid, and the only actions the agent can take are to move up, down, left, or right across the grid tiles. The agent's job is almost always to find a way to a goal tile in the most direct way possible while overcoming some maze or other obstacles, either static or dynamic.\n",
        "\n",
        "For our discussion, we will be looking at the classic Cliff World, or Cliff Walker, environment. This is a 4x12 grid with a starting position in the lower-left and the goal position in the lower-right. Every tile between these two is the \"cliff.\" If the agent enters the cliff, they will receive a -100 reward and be sent back to the starting position. Every tile other than the cliff produces a -1 reward when entered. The goal tile ends the episode after taking any action from it.\n",
        "\n",
        "<img alt=\"CliffWorld\" width=\"577\" height=\"308\" src=\"https://github.com/NeuromatchAcademy/course-content/blob/master/tutorials/W2D5_ReinforcementLearning/static/W2D5_Tutorial3_CliffWorld.png?raw=true\">\n",
        "\n",
        "Given these conditions, the maximum achievable reward is -12 (1 up, 11 right, 1 down). Using negative rewards is a common technique to encourage the agent to move and seek out the goal state as fast as possible.\n",
        "\n",
        "---\n",
        "__Q-Learning:__\n",
        "\n",
        "Now that we have our environment, how can we solve it? \n",
        "\n",
        "One of the most famous algorithms for estimating action values (aka Q-values) is the **Off-policy** Temporal Differences (TD) **control** algorithm known as *Q-learning* (Watkins, 1989). \n",
        "\n",
        "\\begin{align}\n",
        "Q(S_t,A_t) \\leftarrow Q(S_t,A_t) + \\alpha \\big(R_t + \\gamma\\max_\\limits{a} Q(S_{t+1},a) - Q(S_t,A_t)\\big)\n",
        "\\end{align}\n",
        "\n",
        "where $Q(s,a)$ is the value function for action $a$ at state $s$, $\\alpha$ is the learning rate, $r$ is the reward, and $\\gamma$ is the temporal discount rate.\n",
        "\n",
        "The expression $R_t + \\gamma\\max_\\limits{a} Q(S_{t+1},a)$ is referred to as the TD target while the full expression \n",
        "\\begin{align}\n",
        "R_t + \\gamma\\max_\\limits{a} Q(S_{t+1},a) - Q(S_t,A_t),\n",
        "\\end{align}\n",
        "i.e. the difference between the TD target and the current Q-value, is referred to as the TD error, or reward prediction error.\n",
        "\n",
        "Because the max operator used to select the optimal Q-value in the TD target, Q-learning directly estimates the optimal action value, i.e. the cumulative future reward that would be obtained if the agent behaved optimally, independent of the policy currently being followed by the agent. For this reason, Q-learning is referred to as an **off-policy** method."
      ]
    },
    {
      "cell_type": "markdown",
      "metadata": {
        "id": "ZyApRXxM5Uzn",
        "colab_type": "text"
      },
      "source": [
        "##Exercise 2: Implementing Q-Learning\n",
        "\n",
        "In this exercise you will implement the Q-learning update rule described above. \n",
        "\n",
        "Please read the environment setup carefully."
      ]
    },
    {
      "cell_type": "code",
      "metadata": {
        "id": "P21tWpOnC7jU",
        "colab_type": "code",
        "colab": {}
      },
      "source": [
        "#@title Environment Setup\n",
        "\n",
        "# world height\n",
        "WORLD_HEIGHT = 4\n",
        "\n",
        "# world width\n",
        "WORLD_WIDTH = 12\n",
        "\n",
        "# probability for exploration\n",
        "EPSILON = 0.1\n",
        "\n",
        "# step size\n",
        "ALPHA = 0.5\n",
        "\n",
        "# gamma for Q-Learning and Expected Sarsa\n",
        "GAMMA = 1\n",
        "\n",
        "# all possible actions\n",
        "ACTION_UP = 0\n",
        "ACTION_DOWN = 1\n",
        "ACTION_LEFT = 2\n",
        "ACTION_RIGHT = 3\n",
        "actions = [ACTION_UP, ACTION_DOWN, ACTION_LEFT, ACTION_RIGHT]\n",
        "\n",
        "# initial state action pair values\n",
        "stateActionValues = np.zeros((WORLD_HEIGHT, WORLD_WIDTH, 4))\n",
        "startState = [3, 0]\n",
        "goalState = [3, 11]\n",
        "\n",
        "# reward for each action in each state\n",
        "actionRewards = np.zeros((WORLD_HEIGHT, WORLD_WIDTH, 4))\n",
        "actionRewards[:, :, :] = -1.0\n",
        "#walking thorough Cliff\n",
        "actionRewards[2, 1:11, ACTION_DOWN] = -100.0\n",
        "actionRewards[3, 0, ACTION_RIGHT] = -100.0\n",
        "\n",
        "# set up destinations for each action in each state\n",
        "#(determine next states after taking all posible actions)\n",
        "actionDestination = []\n",
        "for i in range(0, WORLD_HEIGHT):\n",
        "    actionDestination.append([])\n",
        "    for j in range(0, WORLD_WIDTH):\n",
        "        destinaion = dict()\n",
        "        destinaion[ACTION_UP] = [max(i - 1, 0), j]\n",
        "        destinaion[ACTION_LEFT] = [i, max(j - 1, 0)]\n",
        "        destinaion[ACTION_RIGHT] = [i, min(j + 1, WORLD_WIDTH - 1)]\n",
        "        if i == 2 and 1 <= j <= 10:\n",
        "            destinaion[ACTION_DOWN] = startState\n",
        "        else:\n",
        "            destinaion[ACTION_DOWN] = [min(i + 1, WORLD_HEIGHT - 1), j]\n",
        "        actionDestination[-1].append(destinaion)\n",
        "actionDestination[3][0][ACTION_RIGHT] = startState"
      ],
      "execution_count": 32,
      "outputs": []
    },
    {
      "cell_type": "code",
      "metadata": {
        "id": "AVrNhdTDkXeP",
        "colab_type": "code",
        "colab": {},
        "cellView": "form"
      },
      "source": [
        "#@title Helper Function\n",
        "\n",
        "#######################################################################\n",
        "# Copyright (C)                                                       #\n",
        "# 2016 Shangtong Zhang(zhangshangtong.cpp@gmail.com)                  #\n",
        "# 2016 Kenta Shimada(hyperkentakun@gmail.com)                         #\n",
        "# Permission given to modify the code as long as you keep this        #\n",
        "# declaration at the top                                              #\n",
        "#######################################################################\n",
        "\n",
        "from __future__ import print_function\n",
        "import numpy as np\n",
        "import matplotlib.pyplot as plt\n",
        "\n",
        "\n",
        "# print optimal policy\n",
        "def printOptimalPolicy(stateActionValues):\n",
        "    optimalPolicy = []\n",
        "    for i in range(0, WORLD_HEIGHT):\n",
        "        optimalPolicy.append([])\n",
        "        for j in range(0, WORLD_WIDTH):\n",
        "            if [i, j] == goalState:\n",
        "                optimalPolicy[-1].append('G')\n",
        "                continue\n",
        "            bestAction = np.argmax(stateActionValues[i, j, :])\n",
        "            if bestAction == ACTION_UP:\n",
        "                optimalPolicy[-1].append('U')\n",
        "            elif bestAction == ACTION_DOWN:\n",
        "                optimalPolicy[-1].append('D')\n",
        "            elif bestAction == ACTION_LEFT:\n",
        "                optimalPolicy[-1].append('L')\n",
        "            elif bestAction == ACTION_RIGHT:\n",
        "                optimalPolicy[-1].append('R')\n",
        "    for row in optimalPolicy:\n",
        "        print(row)\n",
        "\n",
        "# choose an action based on epsilon greedy algorithm\n",
        "def chooseAction(state, stateActionValues):\n",
        "    if np.random.binomial(1, EPSILON) == 1:\n",
        "        return np.random.choice(actions)\n",
        "    else:\n",
        "        values_ = stateActionValues[state[0], state[1], :]\n",
        "        return np.random.choice([action_ for action_, value_ in enumerate(values_) if value_ == np.max(values_)])\n",
        "\n",
        "def takeAction(currentState, currentAction):\n",
        "  newState = actionDestination[currentState[0]][currentState[1]][currentAction]\n",
        "  reward = actionRewards[currentState[0], currentState[1], currentAction]\n",
        "  return newState, reward\n"
      ],
      "execution_count": 33,
      "outputs": []
    },
    {
      "cell_type": "markdown",
      "metadata": {
        "id": "0xrE9HJz05bL",
        "colab_type": "text"
      },
      "source": [
        "You can use ``` chooseAction(state, stateActionValues) ``` and ``` takeAction(state, action) ``` and ``` np.max([...]) ```.\n",
        "\n"
      ]
    },
    {
      "cell_type": "code",
      "metadata": {
        "id": "U2q0TueZB5QD",
        "colab_type": "code",
        "colab": {}
      },
      "source": [
        "# an episode with Q-Learning\n",
        "# @stateActionValues: values for state action pair, will be updated\n",
        "# @stepSize: step size for updating\n",
        "# @return: total rewards within this episode\n",
        "def qLearning(stateActionValues, stepSize=ALPHA):\n",
        "    currentState = startState\n",
        "    rewards = 0.0\n",
        "    while currentState != goalState:\n",
        "        currentAction = ...\n",
        "        newState, reward = ...\n",
        "        rewards += reward\n",
        "        # Q-Learning update\n",
        "        stateActionValues[currentState[0], currentState[1], currentAction] = ...\n",
        "        #going to the nest state and continueing the episode\n",
        "        ...\n",
        "    return rewards\n"
      ],
      "execution_count": 34,
      "outputs": []
    },
    {
      "cell_type": "markdown",
      "metadata": {
        "id": "pbJvlJ_8ggBK",
        "colab_type": "text"
      },
      "source": [
        "#Section 3: Introduction to SARSA\n",
        "\n",
        "An alternative to Q-learning, the SARSA algorithm, also estimates action values. However, rather than estimating the optimal (off-policy) values, SARSA estimates the **on-policy** action value (On-policy TD Control), i.e. the cumulative future reward that would be obtained if the agent behaved according to its current beliefs.\n",
        "\n",
        "\\begin{align}\n",
        "Q(S_t,A_t) \\leftarrow Q(S_t,A_t) + \\alpha \\big(R_t + \\gamma Q(S_{t+1},A_{t+1}) - Q(S_t,A_t)\\big)\n",
        "\\end{align}\n",
        "\n",
        "where, once again, $Q(s,a)$ is the value function for action $a$ at state $s$, $\\alpha$ is the learning rate, $R-{t}$ is the reward, and $\\gamma$ is the temporal discount rate.\n",
        "\n",
        "In fact, you will notice that the *only* difference between Q-learning and SARSA is the TD target calculation uses the policy to select the next action (in our case, epsilon-greedy) than using the action that maximizes the Q-value."
      ]
    },
    {
      "cell_type": "markdown",
      "metadata": {
        "id": "2Y_Qdad9idSO",
        "colab_type": "text"
      },
      "source": [
        "## Exercise 2: Implementing the SARSA algorithm\n",
        "\n",
        "In this exercise you will implement the SARSA update rule described above. \n"
      ]
    },
    {
      "cell_type": "code",
      "metadata": {
        "id": "3Ky63cJyCL0T",
        "colab_type": "code",
        "colab": {}
      },
      "source": [
        "# an episode with Sarsa\n",
        "# @stateActionValues: values for state action pair, will be updated\n",
        "# @stepSize: step size for updating\n",
        "# @return: total rewards within this episode\n",
        "def sarsa(stateActionValues, stepSize=ALPHA):\n",
        "    currentState = startState\n",
        "    currentAction = ...\n",
        "    rewards = 0.0\n",
        "    while currentState != goalState:\n",
        "        newState, reward = ...\n",
        "        newAction = ...\n",
        "        rewards += reward\n",
        "        #Q(newState, newAction) using stateActionValues[...]\n",
        "        valueTarget = ...\n",
        "        valueTarget *= GAMMA\n",
        "        # Sarsa update\n",
        "        stateActionValues[currentState[0], currentState[1], currentAction] = ...\n",
        "        currentState = newState\n",
        "        currentAction = newAction\n",
        "    return rewards\n"
      ],
      "execution_count": 35,
      "outputs": []
    },
    {
      "cell_type": "markdown",
      "metadata": {
        "id": "8Nf_e-pRkrHS",
        "colab_type": "text"
      },
      "source": [
        "Now, we have completed the SARSA and Q-Learning; let's see the difference between these two algorithms!\n",
        "To compare them, we run both algorithms 20 times; each run has 500 episodes. So we can have a smooth learning curve!\n",
        "\n",
        "Please run the code block below and try to ask these questions:\n",
        "\n",
        "1. Which one is faster?\n",
        "2. Which one is optimal?\n",
        "3. Which one comes up with a safer path?"
      ]
    },
    {
      "cell_type": "code",
      "metadata": {
        "id": "n9njjTvSkVIJ",
        "colab_type": "code",
        "colab": {
          "base_uri": "https://localhost:8080/",
          "height": 447
        },
        "cellView": "form",
        "outputId": "218c2908-5e67-4667-ac80-054c507f0ba6"
      },
      "source": [
        "#@title Comparing Sarsa and Q-Learning on Cliff Walk\n",
        "def learning_curve():\n",
        "    # averaging the reward sums from 10 successive episodes\n",
        "    averageRange = 10\n",
        "\n",
        "    # episodes of each run\n",
        "    nEpisodes = 500\n",
        "\n",
        "    # perform 20 independent runs\n",
        "    runs = 20\n",
        "\n",
        "    rewardsSarsa = np.zeros(nEpisodes)\n",
        "    rewardsQLearning = np.zeros(nEpisodes)\n",
        "    for run in range(0, runs):\n",
        "        stateActionValuesSarsa = np.copy(stateActionValues)\n",
        "        stateActionValuesQLearning = np.copy(stateActionValues)\n",
        "        for i in range(0, nEpisodes):\n",
        "            # cut off the value by -100 to draw the figure more elegantly\n",
        "            rewardsSarsa[i] += max(sarsa(stateActionValuesSarsa), -100)\n",
        "            rewardsQLearning[i] += max(qLearning(stateActionValuesQLearning), -100)\n",
        "\n",
        "    # averaging over independt runs\n",
        "    rewardsSarsa /= runs\n",
        "    rewardsQLearning /= runs\n",
        "\n",
        "    # averaging over successive episodes\n",
        "    smoothedRewardsSarsa = np.copy(rewardsSarsa)\n",
        "    smoothedRewardsQLearning = np.copy(rewardsQLearning)\n",
        "    for i in range(averageRange, nEpisodes):\n",
        "        smoothedRewardsSarsa[i] = np.mean(rewardsSarsa[i - averageRange: i + 1])\n",
        "        smoothedRewardsQLearning[i] = np.mean(rewardsQLearning[i - averageRange: i + 1])\n",
        "\n",
        "    # display optimal policy\n",
        "    print('Sarsa Optimal Policy:')\n",
        "    printOptimalPolicy(stateActionValuesSarsa)\n",
        "    print('Q-Learning Optimal Policy:')\n",
        "    printOptimalPolicy(stateActionValuesQLearning)\n",
        "\n",
        "    # draw reward curves\n",
        "    plt.figure(1)\n",
        "    plt.plot(smoothedRewardsSarsa, label='Sarsa')\n",
        "    plt.plot(smoothedRewardsQLearning, label='Q-Learning')\n",
        "    plt.xlabel('Episodes')\n",
        "    plt.ylabel('Sum of rewards during episode')\n",
        "    plt.legend()\n",
        "\n",
        "learning_curve()\n",
        "plt.show()"
      ],
      "execution_count": 36,
      "outputs": [
        {
          "output_type": "stream",
          "text": [
            "Sarsa Optimal Policy:\n",
            "['R', 'R', 'R', 'R', 'R', 'R', 'R', 'R', 'R', 'R', 'R', 'D']\n",
            "['U', 'U', 'R', 'R', 'U', 'R', 'U', 'U', 'U', 'U', 'R', 'D']\n",
            "['U', 'U', 'U', 'R', 'U', 'U', 'L', 'R', 'R', 'R', 'R', 'D']\n",
            "['U', 'U', 'U', 'U', 'U', 'U', 'U', 'U', 'U', 'U', 'U', 'G']\n",
            "Q-Learning Optimal Policy:\n",
            "['R', 'U', 'R', 'R', 'R', 'R', 'R', 'R', 'R', 'R', 'D', 'D']\n",
            "['R', 'D', 'R', 'R', 'D', 'R', 'D', 'R', 'R', 'R', 'D', 'D']\n",
            "['R', 'R', 'R', 'R', 'R', 'R', 'R', 'R', 'R', 'R', 'R', 'D']\n",
            "['U', 'U', 'U', 'U', 'U', 'U', 'U', 'U', 'U', 'U', 'U', 'G']\n"
          ],
          "name": "stdout"
        },
        {
          "output_type": "display_data",
          "data": {
            "image/png": "[encoded data removed]",
            "text/plain": [
              "<Figure size 432x288 with 1 Axes>"
            ]
          },
          "metadata": {
            "tags": [],
            "needs_background": "light"
          }
        }
      ]
    },
    {
      "cell_type": "markdown",
      "metadata": {
        "id": "zysaW8JlxPxC",
        "colab_type": "text"
      },
      "source": [
        "What should immediately jump out is that Q-learning learned to go up, then quickly go to the right, skirting the cliff edge, until it hits the wall and goes down to the goal. The policy further away from the cliff is less certain.\n",
        "\n",
        "On the other hand, SARSA appears to avoid the cliff edge, going up one more tile before starting over to the goal side. This also clearly solves the challenge of getting to the goal but does so at an additional -2 cost over the truly optimal route.\n",
        "\n",
        "Why do you think these behaviours emerged the way they did?\n",
        "\n",
        "In video below, you can watch how Q-Learning algorithm learns step by step! Enjoy it."
      ]
    },
    {
      "cell_type": "code",
      "metadata": {
        "id": "dxsKPFC_El86",
        "colab_type": "code",
        "colab": {
          "base_uri": "https://localhost:8080/",
          "height": 321
        },
        "cellView": "form",
        "outputId": "ffe6bdda-f7ed-4fe4-8f44-c40d5c7ec6cf"
      },
      "source": [
        "#@title (Video) How Q-Learning is Learning?\n",
        "from IPython.display import YouTubeVideo\n",
        "YouTubeVideo('Vto8n9C7DSQ')"
      ],
      "execution_count": 50,
      "outputs": [
        {
          "output_type": "execute_result",
          "data": {
            "text/html": [
              "\n",
              "        <iframe\n",
              "            width=\"400\"\n",
              "            height=\"300\"\n",
              "            src=\"https://www.youtube.com/embed/Vto8n9C7DSQ\"\n",
              "            frameborder=\"0\"\n",
              "            allowfullscreen\n",
              "        ></iframe>\n",
              "        "
            ],
            "text/plain": [
              "<IPython.lib.display.YouTubeVideo at 0x7f50e91f90f0>"
            ],
            "image/jpeg": "[encoded data removed]"
          },
          "metadata": {
            "tags": []
          },
          "execution_count": 50
        }
      ]
    },
    {
      "cell_type": "markdown",
      "metadata": {
        "id": "IAiBC-Afzvi1",
        "colab_type": "text"
      },
      "source": [
        "#References\n",
        "\n",
        "1. Neuromatch [RL Tutorial](https://github.com/NeuromatchAcademy/course-content/tree/master/tutorials/W2D5_ReinforcementLearning)\n",
        "2. [RL an introduction -solutions](https://github.com/JaeDukSeo/reinforcement-learning-an-introduction/blob/master/chapter02/TenArmedTestbed.py)\n",
        "3. [RL an introduction, second edition](http://www.incompleteideas.net/book/the-book.html)"
      ]
    }
  ]
}